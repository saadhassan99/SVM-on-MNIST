{
  "nbformat": 4,
  "nbformat_minor": 0,
  "metadata": {
    "colab": {
      "name": "SVM classifier on the MNIST.ipynb",
      "provenance": [],
      "authorship_tag": "ABX9TyOzKMu/mWOiQav3EvyhTM9m",
      "include_colab_link": true
    },
    "kernelspec": {
      "name": "python3",
      "display_name": "Python 3"
    },
    "language_info": {
      "name": "python"
    }
  },
  "cells": [
    {
      "cell_type": "markdown",
      "metadata": {
        "id": "view-in-github",
        "colab_type": "text"
      },
      "source": [
        "<a href=\"https://colab.research.google.com/github/saadhassan99/SVM-on-MNIST/blob/main/SVM_classifier_on_the_MNIST.ipynb\" target=\"_parent\"><img src=\"https://colab.research.google.com/assets/colab-badge.svg\" alt=\"Open In Colab\"/></a>"
      ]
    },
    {
      "cell_type": "code",
      "metadata": {
        "id": "OSIUB0me1XU-"
      },
      "source": [
        "import numpy as np\n",
        "from sklearn.datasets import fetch_openml\n",
        "from sklearn.svm import LinearSVC\n",
        "from sklearn.svm import SVC\n",
        "from sklearn.preprocessing import StandardScaler\n",
        "from sklearn.pipeline import Pipeline\n",
        "from sklearn.metrics import accuracy_score"
      ],
      "execution_count": null,
      "outputs": []
    },
    {
      "cell_type": "code",
      "metadata": {
        "id": "hKZcyfF6w2D_"
      },
      "source": [
        "mnist = fetch_openml(name='mnist_784', version=1, cache=True)\n",
        "\n",
        "X = mnist[\"data\"]\n",
        "y = mnist[\"target\"].astype(np.uint8)"
      ],
      "execution_count": null,
      "outputs": []
    },
    {
      "cell_type": "code",
      "metadata": {
        "id": "jZi8VFIiz1fp"
      },
      "source": [
        "X_train = X[:60000]\n",
        "y_train = y[:60000]\n",
        "X_test = X[60000:]\n",
        "y_test = y[60000:]"
      ],
      "execution_count": null,
      "outputs": []
    },
    {
      "cell_type": "markdown",
      "metadata": {
        "id": "Hi_WA4E81P6I"
      },
      "source": [
        "Many training algorithms are sensitive to the order of the training instances, so it's generally good practice to shuffle them first. However, the dataset is already shuffled, so we do not need to do it.\n",
        "\n",
        "Let's start simple, with a linear SVM classifier. It will automatically use the One-vs-All (also called One-vs-the-Rest, OvR) strategy, so there's nothing special we need to do. Easy!"
      ]
    },
    {
      "cell_type": "markdown",
      "metadata": {
        "id": "Qh9zeHPm2_z5"
      },
      "source": [
        "Do not forget to scale the features. SVMs are extremely sensitive to feature scaling. Different scales will ruin the results"
      ]
    },
    {
      "cell_type": "code",
      "metadata": {
        "id": "RbsnhbPW3dgF"
      },
      "source": [
        "lin_svc_pipeline = Pipeline([\n",
        "                             (\"scaler\", StandardScaler()),\n",
        "                             (\"linear_SVM\", LinearSVC(random_state=2021))\n",
        "])"
      ],
      "execution_count": null,
      "outputs": []
    },
    {
      "cell_type": "code",
      "metadata": {
        "colab": {
          "base_uri": "https://localhost:8080/"
        },
        "id": "KMONtoUx10Tg",
        "outputId": "9537bf19-84a8-4237-9765-ee768bb1aa86"
      },
      "source": [
        "lin_svc_pipeline.fit(X_train, y_train)"
      ],
      "execution_count": null,
      "outputs": [
        {
          "output_type": "stream",
          "text": [
            "/usr/local/lib/python3.7/dist-packages/sklearn/svm/_base.py:947: ConvergenceWarning: Liblinear failed to converge, increase the number of iterations.\n",
            "  \"the number of iterations.\", ConvergenceWarning)\n"
          ],
          "name": "stderr"
        },
        {
          "output_type": "execute_result",
          "data": {
            "text/plain": [
              "Pipeline(memory=None,\n",
              "         steps=[('scaler',\n",
              "                 StandardScaler(copy=True, with_mean=True, with_std=True)),\n",
              "                ('linear_SVM',\n",
              "                 LinearSVC(C=1.0, class_weight=None, dual=True,\n",
              "                           fit_intercept=True, intercept_scaling=1,\n",
              "                           loss='squared_hinge', max_iter=1000,\n",
              "                           multi_class='ovr', penalty='l2', random_state=2021,\n",
              "                           tol=0.0001, verbose=0))],\n",
              "         verbose=False)"
            ]
          },
          "metadata": {
            "tags": []
          },
          "execution_count": 6
        }
      ]
    },
    {
      "cell_type": "code",
      "metadata": {
        "colab": {
          "base_uri": "https://localhost:8080/"
        },
        "id": "pq_ktKTl4kzz",
        "outputId": "c2893ba2-4e82-4149-f3d9-6a517ce4d44f"
      },
      "source": [
        "y_pred = lin_svc_pipeline.predict(X_train)\n",
        "accuracy_score(y_pred, y_train)"
      ],
      "execution_count": null,
      "outputs": [
        {
          "output_type": "execute_result",
          "data": {
            "text/plain": [
              "0.9205666666666666"
            ]
          },
          "metadata": {
            "tags": []
          },
          "execution_count": 7
        }
      ]
    },
    {
      "cell_type": "markdown",
      "metadata": {
        "id": "CUUPPQkWGIJx"
      },
      "source": [
        "\n",
        "not a great accuracy for MNIST. If we want to use an SVM, we will have to use a kernel. Let's try an SVC with an RBF kernel"
      ]
    },
    {
      "cell_type": "code",
      "metadata": {
        "id": "Nq_Oa7in4R-f"
      },
      "source": [
        "rbf_kernel_svm_clf = Pipeline([\n",
        "                               (\"scaler\", StandardScaler()),\n",
        "                               (\"svm_clf\", SVC(kernel='rbf'))\n",
        "])"
      ],
      "execution_count": null,
      "outputs": []
    },
    {
      "cell_type": "code",
      "metadata": {
        "colab": {
          "base_uri": "https://localhost:8080/"
        },
        "id": "nsVf0IjgG6UK",
        "outputId": "e08a4586-1deb-49ce-c8c3-27a1c4bcba95"
      },
      "source": [
        "rbf_kernel_svm_clf.fit(X_train[:10000], y_train[:10000])"
      ],
      "execution_count": null,
      "outputs": [
        {
          "output_type": "execute_result",
          "data": {
            "text/plain": [
              "Pipeline(memory=None,\n",
              "         steps=[('scaler',\n",
              "                 StandardScaler(copy=True, with_mean=True, with_std=True)),\n",
              "                ('svm_clf',\n",
              "                 SVC(C=1.0, break_ties=False, cache_size=200, class_weight=None,\n",
              "                     coef0=0.0, decision_function_shape='ovr', degree=3,\n",
              "                     gamma='scale', kernel='rbf', max_iter=-1,\n",
              "                     probability=False, random_state=None, shrinking=True,\n",
              "                     tol=0.001, verbose=False))],\n",
              "         verbose=False)"
            ]
          },
          "metadata": {
            "tags": []
          },
          "execution_count": 6
        }
      ]
    },
    {
      "cell_type": "code",
      "metadata": {
        "colab": {
          "base_uri": "https://localhost:8080/"
        },
        "id": "9QcovQ1SG_Ej",
        "outputId": "b943f0bc-11c0-4a08-987f-0b0095464038"
      },
      "source": [
        "y_pred = rbf_kernel_svm_clf.predict(X_train)\n",
        "accuracy_score(y_pred, y_train)"
      ],
      "execution_count": null,
      "outputs": [
        {
          "output_type": "execute_result",
          "data": {
            "text/plain": [
              "0.94405"
            ]
          },
          "metadata": {
            "tags": []
          },
          "execution_count": 7
        }
      ]
    },
    {
      "cell_type": "markdown",
      "metadata": {
        "id": "Qh1UdSKyKofG"
      },
      "source": [
        "That's promising, we get better performance even though we trained the model on 6 times less data. Let's tune the hyperparameters by doing a randomized search with cross validation. We will do this on a small dataset just to speed up the process:"
      ]
    },
    {
      "cell_type": "code",
      "metadata": {
        "colab": {
          "base_uri": "https://localhost:8080/"
        },
        "id": "xxuya5DAJo0Z",
        "outputId": "1fcac88b-5059-41b1-c55c-c78b58d3f704"
      },
      "source": [
        "from sklearn.model_selection import RandomizedSearchCV\n",
        "from scipy.stats import reciprocal, uniform\n",
        "\n",
        "# Parameters of pipelines can be set using ‘__’ separated parameter names:\n",
        "param_distributions = {\"svm_clf__gamma\": reciprocal(0.001, 0.1), \"svm_clf__C\": uniform(1, 10)}\n",
        "rnd_search_cv = RandomizedSearchCV(rbf_kernel_svm_clf, param_distributions, n_iter=10, verbose=2, cv=3)\n",
        "rnd_search_cv.fit(X_train[:1000], y_train[:1000])"
      ],
      "execution_count": null,
      "outputs": [
        {
          "output_type": "stream",
          "text": [
            "Fitting 3 folds for each of 10 candidates, totalling 30 fits\n",
            "[CV] svm_clf__C=10.613968931268783, svm_clf__gamma=0.007053058879001415 \n"
          ],
          "name": "stdout"
        },
        {
          "output_type": "stream",
          "text": [
            "[Parallel(n_jobs=1)]: Using backend SequentialBackend with 1 concurrent workers.\n"
          ],
          "name": "stderr"
        },
        {
          "output_type": "stream",
          "text": [
            "[CV]  svm_clf__C=10.613968931268783, svm_clf__gamma=0.007053058879001415, total=   1.2s\n",
            "[CV] svm_clf__C=10.613968931268783, svm_clf__gamma=0.007053058879001415 \n"
          ],
          "name": "stdout"
        },
        {
          "output_type": "stream",
          "text": [
            "[Parallel(n_jobs=1)]: Done   1 out of   1 | elapsed:    1.2s remaining:    0.0s\n"
          ],
          "name": "stderr"
        },
        {
          "output_type": "stream",
          "text": [
            "[CV]  svm_clf__C=10.613968931268783, svm_clf__gamma=0.007053058879001415, total=   1.2s\n",
            "[CV] svm_clf__C=10.613968931268783, svm_clf__gamma=0.007053058879001415 \n",
            "[CV]  svm_clf__C=10.613968931268783, svm_clf__gamma=0.007053058879001415, total=   1.2s\n",
            "[CV] svm_clf__C=10.911179249108393, svm_clf__gamma=0.005590781875127783 \n",
            "[CV]  svm_clf__C=10.911179249108393, svm_clf__gamma=0.005590781875127783, total=   1.2s\n",
            "[CV] svm_clf__C=10.911179249108393, svm_clf__gamma=0.005590781875127783 \n",
            "[CV]  svm_clf__C=10.911179249108393, svm_clf__gamma=0.005590781875127783, total=   1.2s\n",
            "[CV] svm_clf__C=10.911179249108393, svm_clf__gamma=0.005590781875127783 \n",
            "[CV]  svm_clf__C=10.911179249108393, svm_clf__gamma=0.005590781875127783, total=   1.2s\n",
            "[CV] svm_clf__C=7.74601983446654, svm_clf__gamma=0.0029762976640808304 \n",
            "[CV]  svm_clf__C=7.74601983446654, svm_clf__gamma=0.0029762976640808304, total=   1.1s\n",
            "[CV] svm_clf__C=7.74601983446654, svm_clf__gamma=0.0029762976640808304 \n",
            "[CV]  svm_clf__C=7.74601983446654, svm_clf__gamma=0.0029762976640808304, total=   1.1s\n",
            "[CV] svm_clf__C=7.74601983446654, svm_clf__gamma=0.0029762976640808304 \n",
            "[CV]  svm_clf__C=7.74601983446654, svm_clf__gamma=0.0029762976640808304, total=   1.1s\n",
            "[CV] svm_clf__C=1.3225962159262952, svm_clf__gamma=0.0035385343962233673 \n",
            "[CV]  svm_clf__C=1.3225962159262952, svm_clf__gamma=0.0035385343962233673, total=   1.1s\n",
            "[CV] svm_clf__C=1.3225962159262952, svm_clf__gamma=0.0035385343962233673 \n",
            "[CV]  svm_clf__C=1.3225962159262952, svm_clf__gamma=0.0035385343962233673, total=   1.1s\n",
            "[CV] svm_clf__C=1.3225962159262952, svm_clf__gamma=0.0035385343962233673 \n",
            "[CV]  svm_clf__C=1.3225962159262952, svm_clf__gamma=0.0035385343962233673, total=   1.1s\n",
            "[CV] svm_clf__C=8.937358653909854, svm_clf__gamma=0.002729014111163797 \n",
            "[CV]  svm_clf__C=8.937358653909854, svm_clf__gamma=0.002729014111163797, total=   1.1s\n",
            "[CV] svm_clf__C=8.937358653909854, svm_clf__gamma=0.002729014111163797 \n",
            "[CV]  svm_clf__C=8.937358653909854, svm_clf__gamma=0.002729014111163797, total=   1.1s\n",
            "[CV] svm_clf__C=8.937358653909854, svm_clf__gamma=0.002729014111163797 \n",
            "[CV]  svm_clf__C=8.937358653909854, svm_clf__gamma=0.002729014111163797, total=   1.1s\n",
            "[CV] svm_clf__C=5.716160889121104, svm_clf__gamma=0.06615151401180763 \n",
            "[CV]  svm_clf__C=5.716160889121104, svm_clf__gamma=0.06615151401180763, total=   1.2s\n",
            "[CV] svm_clf__C=5.716160889121104, svm_clf__gamma=0.06615151401180763 \n",
            "[CV]  svm_clf__C=5.716160889121104, svm_clf__gamma=0.06615151401180763, total=   1.3s\n",
            "[CV] svm_clf__C=5.716160889121104, svm_clf__gamma=0.06615151401180763 \n",
            "[CV]  svm_clf__C=5.716160889121104, svm_clf__gamma=0.06615151401180763, total=   1.2s\n",
            "[CV] svm_clf__C=5.769994809791447, svm_clf__gamma=0.024126828896973297 \n",
            "[CV]  svm_clf__C=5.769994809791447, svm_clf__gamma=0.024126828896973297, total=   1.2s\n",
            "[CV] svm_clf__C=5.769994809791447, svm_clf__gamma=0.024126828896973297 \n",
            "[CV]  svm_clf__C=5.769994809791447, svm_clf__gamma=0.024126828896973297, total=   1.2s\n",
            "[CV] svm_clf__C=5.769994809791447, svm_clf__gamma=0.024126828896973297 \n",
            "[CV]  svm_clf__C=5.769994809791447, svm_clf__gamma=0.024126828896973297, total=   1.2s\n",
            "[CV] svm_clf__C=3.171179959180783, svm_clf__gamma=0.05397572695136132 \n",
            "[CV]  svm_clf__C=3.171179959180783, svm_clf__gamma=0.05397572695136132, total=   1.2s\n",
            "[CV] svm_clf__C=3.171179959180783, svm_clf__gamma=0.05397572695136132 \n",
            "[CV]  svm_clf__C=3.171179959180783, svm_clf__gamma=0.05397572695136132, total=   1.2s\n",
            "[CV] svm_clf__C=3.171179959180783, svm_clf__gamma=0.05397572695136132 \n",
            "[CV]  svm_clf__C=3.171179959180783, svm_clf__gamma=0.05397572695136132, total=   1.2s\n",
            "[CV] svm_clf__C=9.833882488806438, svm_clf__gamma=0.006028414834355626 \n",
            "[CV]  svm_clf__C=9.833882488806438, svm_clf__gamma=0.006028414834355626, total=   1.2s\n",
            "[CV] svm_clf__C=9.833882488806438, svm_clf__gamma=0.006028414834355626 \n",
            "[CV]  svm_clf__C=9.833882488806438, svm_clf__gamma=0.006028414834355626, total=   1.2s\n",
            "[CV] svm_clf__C=9.833882488806438, svm_clf__gamma=0.006028414834355626 \n",
            "[CV]  svm_clf__C=9.833882488806438, svm_clf__gamma=0.006028414834355626, total=   1.2s\n",
            "[CV] svm_clf__C=5.962064738868197, svm_clf__gamma=0.0011699064117295366 \n",
            "[CV]  svm_clf__C=5.962064738868197, svm_clf__gamma=0.0011699064117295366, total=   0.9s\n",
            "[CV] svm_clf__C=5.962064738868197, svm_clf__gamma=0.0011699064117295366 \n",
            "[CV]  svm_clf__C=5.962064738868197, svm_clf__gamma=0.0011699064117295366, total=   0.9s\n",
            "[CV] svm_clf__C=5.962064738868197, svm_clf__gamma=0.0011699064117295366 \n",
            "[CV]  svm_clf__C=5.962064738868197, svm_clf__gamma=0.0011699064117295366, total=   0.8s\n"
          ],
          "name": "stdout"
        },
        {
          "output_type": "stream",
          "text": [
            "[Parallel(n_jobs=1)]: Done  30 out of  30 | elapsed:   34.4s finished\n"
          ],
          "name": "stderr"
        },
        {
          "output_type": "execute_result",
          "data": {
            "text/plain": [
              "RandomizedSearchCV(cv=3, error_score=nan,\n",
              "                   estimator=Pipeline(memory=None,\n",
              "                                      steps=[('scaler',\n",
              "                                              StandardScaler(copy=True,\n",
              "                                                             with_mean=True,\n",
              "                                                             with_std=True)),\n",
              "                                             ('svm_clf',\n",
              "                                              SVC(C=1.0, break_ties=False,\n",
              "                                                  cache_size=200,\n",
              "                                                  class_weight=None, coef0=0.0,\n",
              "                                                  decision_function_shape='ovr',\n",
              "                                                  degree=3, gamma='scale',\n",
              "                                                  kernel='rbf', max_iter=-1,\n",
              "                                                  probability=False,\n",
              "                                                  random_state=None,\n",
              "                                                  shrinking=T...\n",
              "                                                  verbose=False))],\n",
              "                                      verbose=False),\n",
              "                   iid='deprecated', n_iter=10, n_jobs=None,\n",
              "                   param_distributions={'svm_clf__C': <scipy.stats._distn_infrastructure.rv_frozen object at 0x7f24537c5c90>,\n",
              "                                        'svm_clf__gamma': <scipy.stats._distn_infrastructure.rv_frozen object at 0x7f24537be2d0>},\n",
              "                   pre_dispatch='2*n_jobs', random_state=None, refit=True,\n",
              "                   return_train_score=False, scoring=None, verbose=2)"
            ]
          },
          "metadata": {
            "tags": []
          },
          "execution_count": 10
        }
      ]
    },
    {
      "cell_type": "code",
      "metadata": {
        "colab": {
          "base_uri": "https://localhost:8080/"
        },
        "id": "2wSXVS_3MdP9",
        "outputId": "e1a66b90-dff5-415c-8400-b1068999ff2c"
      },
      "source": [
        "rnd_search_cv.best_estimator_"
      ],
      "execution_count": null,
      "outputs": [
        {
          "output_type": "execute_result",
          "data": {
            "text/plain": [
              "Pipeline(memory=None,\n",
              "         steps=[('scaler',\n",
              "                 StandardScaler(copy=True, with_mean=True, with_std=True)),\n",
              "                ('svm_clf',\n",
              "                 SVC(C=5.962064738868197, break_ties=False, cache_size=200,\n",
              "                     class_weight=None, coef0=0.0,\n",
              "                     decision_function_shape='ovr', degree=3,\n",
              "                     gamma=0.0011699064117295366, kernel='rbf', max_iter=-1,\n",
              "                     probability=False, random_state=None, shrinking=True,\n",
              "                     tol=0.001, verbose=False))],\n",
              "         verbose=False)"
            ]
          },
          "metadata": {
            "tags": []
          },
          "execution_count": 11
        }
      ]
    },
    {
      "cell_type": "code",
      "metadata": {
        "colab": {
          "base_uri": "https://localhost:8080/"
        },
        "id": "aBTx-x-5MizU",
        "outputId": "0cc798fa-c4c6-4b70-9751-90151fdc9c7b"
      },
      "source": [
        "rnd_search_cv.best_score_"
      ],
      "execution_count": null,
      "outputs": [
        {
          "output_type": "execute_result",
          "data": {
            "text/plain": [
              "0.8379757002511493"
            ]
          },
          "metadata": {
            "tags": []
          },
          "execution_count": 12
        }
      ]
    },
    {
      "cell_type": "code",
      "metadata": {
        "colab": {
          "base_uri": "https://localhost:8080/"
        },
        "id": "L5t17DaIMqeA",
        "outputId": "5a865101-d185-4582-f6d7-cfd8b1d9336c"
      },
      "source": [
        "# train the entire dataset on the best set of parameters\n",
        "\n",
        "rnd_search_cv.best_estimator_.fit(X_train, y_train)"
      ],
      "execution_count": null,
      "outputs": [
        {
          "output_type": "execute_result",
          "data": {
            "text/plain": [
              "Pipeline(memory=None,\n",
              "         steps=[('scaler',\n",
              "                 StandardScaler(copy=True, with_mean=True, with_std=True)),\n",
              "                ('svm_clf',\n",
              "                 SVC(C=5.962064738868197, break_ties=False, cache_size=200,\n",
              "                     class_weight=None, coef0=0.0,\n",
              "                     decision_function_shape='ovr', degree=3,\n",
              "                     gamma=0.0011699064117295366, kernel='rbf', max_iter=-1,\n",
              "                     probability=False, random_state=None, shrinking=True,\n",
              "                     tol=0.001, verbose=False))],\n",
              "         verbose=False)"
            ]
          },
          "metadata": {
            "tags": []
          },
          "execution_count": 13
        }
      ]
    },
    {
      "cell_type": "code",
      "metadata": {
        "colab": {
          "base_uri": "https://localhost:8080/"
        },
        "id": "7msUJTfFOSQR",
        "outputId": "e60b7918-ffa0-40db-9de5-0a69f6e1092e"
      },
      "source": [
        "# dont forget to save\n",
        "from sklearn.externals import joblib\n",
        "joblib.dump(rnd_search_cv.best_estimator_, 'final_svm_model_with_rbf_kernel.pkl')"
      ],
      "execution_count": null,
      "outputs": [
        {
          "output_type": "stream",
          "text": [
            "/usr/local/lib/python3.7/dist-packages/sklearn/externals/joblib/__init__.py:15: FutureWarning: sklearn.externals.joblib is deprecated in 0.21 and will be removed in 0.23. Please import this functionality directly from joblib, which can be installed with: pip install joblib. If this warning is raised when loading pickled models, you may need to re-serialize those models with scikit-learn 0.21+.\n",
            "  warnings.warn(msg, category=FutureWarning)\n"
          ],
          "name": "stderr"
        },
        {
          "output_type": "execute_result",
          "data": {
            "text/plain": [
              "['final_svm_model_with_rbf_kernel.pkl']"
            ]
          },
          "metadata": {
            "tags": []
          },
          "execution_count": 15
        }
      ]
    },
    {
      "cell_type": "code",
      "metadata": {
        "colab": {
          "base_uri": "https://localhost:8080/"
        },
        "id": "vqZKQNo4Mul4",
        "outputId": "61895b6e-8ad1-468c-aea1-df5fe1acdada"
      },
      "source": [
        "y_pred = rnd_search_cv.best_estimator_.predict(X_train)\n",
        "accuracy_score(y_train, y_pred)"
      ],
      "execution_count": null,
      "outputs": [
        {
          "output_type": "execute_result",
          "data": {
            "text/plain": [
              "0.9973333333333333"
            ]
          },
          "metadata": {
            "tags": []
          },
          "execution_count": 14
        }
      ]
    },
    {
      "cell_type": "markdown",
      "metadata": {
        "id": "N6HS_Z7dQPCm"
      },
      "source": [
        "Ah, this looks good! Let's select this model. Now we can test it on the test set:"
      ]
    },
    {
      "cell_type": "code",
      "metadata": {
        "colab": {
          "base_uri": "https://localhost:8080/"
        },
        "id": "G_AUkIPIQKbQ",
        "outputId": "e2cd235f-2d53-4b0a-c5c0-042acce8a3ed"
      },
      "source": [
        "y_pred = rnd_search_cv.best_estimator_.predict(X_test)\n",
        "accuracy_score(y_test, y_pred)"
      ],
      "execution_count": null,
      "outputs": [
        {
          "output_type": "execute_result",
          "data": {
            "text/plain": [
              "0.9728"
            ]
          },
          "metadata": {
            "tags": []
          },
          "execution_count": 16
        }
      ]
    },
    {
      "cell_type": "markdown",
      "metadata": {
        "id": "Px5nJn7WPNeI"
      },
      "source": [
        "\n",
        "Not too bad, but apparently the model is overfitting slightly. It's tempting to tweak the hyperparameters a bit more (e.g. decreasing C and/or gamma), but we would run the risk of overfitting the test set. Other people have found that the hyperparameters C=5 and gamma=0.005 yield even better performance (over 98% accuracy). By running the randomized search for longer and on a larger part of the training set, you may be able to find this as well."
      ]
    }
  ]
}